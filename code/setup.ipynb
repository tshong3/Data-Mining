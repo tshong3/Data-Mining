{
 "cells": [
  {
   "cell_type": "markdown",
   "metadata": {},
   "source": [
    "### 프로젝트 수행에 필요한 라이브러리 설치"
   ]
  },
  {
   "cell_type": "code",
   "execution_count": null,
   "metadata": {},
   "outputs": [],
   "source": [
    "# 라이브러리 설치\n",
    "!pip install numpy==1.23.5\n",
    "!pip install torch==2.7.0\n",
    "!pip install scikit-learn==1.6.1\n",
    "!pip install tqdm==4.67.1\n",
    "!pip install matplotlib==3.9.4\n",
    "!pip install sentencepiece==0.1.96\n",
    "!pip install transformers==4.52.3\n",
    "!pip install mxnet -f https://dist.mxnet.io/python/cpu\n",
    "!pip install gluonnlp==0.9.1\n",
    "!pip install konlpy==0.6.0\n",
    "!pip install nltk==3.9.1\n",
    "!pip install hgtk==0.2.1\n",
    "!pip install jamo==0.4.1\n",
    "!pip install hangul-utils==0.2\n",
    "!pip install xgboost==2.1.4\n",
    "!pip install googletrans==4.0.0rc1\n",
    "!pip install git+https://github.com/Seokhyeon-Park/hanspell.git\n",
    "!pip install confusion-matrix==0.1\n",
    "!pip install tensorflow==2.12.0\n",
    "#!pip install mitmproxy\n",
    "!pip install selenium==4.33.0\n",
    "!pip install webdriver-manager==4.0.2\n",
    "!pip install pandas==2.2.3\n",
    "!pip install blinker==1.6.2\n",
    "!pip install selenium-wire==5.1.0\n",
    "#!pip install komoran\n",
    "!pip install WordCloud==1.9.4\n",
    "!pip install seaborn==0.13.2"
   ]
  },
  {
   "cell_type": "code",
   "execution_count": null,
   "metadata": {},
   "outputs": [],
   "source": [
    "nltk.download('words')\n",
    "nltk.download('punkt')  \n",
    "nltk.download('punkt_tab') # 토큰화 도구(최초 1회만 다운로드 필요)\n",
    "nltk.download('averaged_perceptron_tagger')"
   ]
  },
  {
   "cell_type": "markdown",
   "metadata": {},
   "source": [
    "### passport key 파싱을 위한 필요 라이브러리 호출"
   ]
  },
  {
   "cell_type": "code",
   "execution_count": 2,
   "metadata": {},
   "outputs": [],
   "source": [
    "import re\n",
    "import os\n",
    "import unicodedata\n",
    "import hanspell\n",
    "\n",
    "from selenium import webdriver\n",
    "from seleniumwire import webdriver\n",
    "from selenium.webdriver.chrome.options import Options\n",
    "from selenium.webdriver.chrome.service import Service\n",
    "from webdriver_manager.chrome import ChromeDriverManager\n",
    "from seleniumwire.utils import decode\n",
    "import urllib.parse as urlparse\n",
    "from urllib.parse import parse_qs\n",
    "import time\n",
    "from selenium.webdriver.common.by import By"
   ]
  },
  {
   "cell_type": "markdown",
   "metadata": {},
   "source": [
    "### 네이버 맞춤법 검사기에서 passport key 파싱 후 파일에 자동 적용"
   ]
  },
  {
   "cell_type": "code",
   "execution_count": null,
   "metadata": {},
   "outputs": [],
   "source": [
    "options=Options()\n",
    "service=Service(ChromeDriverManager().install())\n",
    "driver=webdriver.Chrome(service=service,options=options)\n",
    "driver.get(\"https://search.naver.com/search.naver?query=맞춤법+검사기\")\n",
    "time.sleep(5)\n",
    "input_box = driver.find_element(By.CSS_SELECTOR, \"textarea.txt_gray\")\n",
    "input_box.click()\n",
    "time.sleep(3)\n",
    "input_box = driver.find_element(By.CSS_SELECTOR, \"textarea.stand_txt\")\n",
    "input_box.send_keys(\"예시 문장입니다.\")\n",
    "submit_btn = driver.find_element(By.CSS_SELECTOR, \"button.btn_check\")\n",
    "\n",
    "submit_btn.click()\n",
    "time.sleep(2)\n",
    "\n",
    "for request in driver.requests:\n",
    "    if \"SpellerProxy\" in request.url :\n",
    "        parsed = urlparse.urlparse(request.url)\n",
    "        passport_key = parse_qs(parsed.query)['passportKey'][0]\n",
    "        underber = parse_qs(parsed.query)['_'][0]\n",
    "        break\n",
    "\n",
    "driver.quit()\n",
    "\n",
    "hanspell_path = os.path.dirname(hanspell.__file__)\n",
    "spell_checker_path = os.path.join(hanspell_path, 'spell_checker.py')\n",
    "\n",
    "print(\"spell_checker.py 파일 위치:\", spell_checker_path)\n",
    "\n",
    "with open(spell_checker_path, 'r', encoding='utf-8') as f:\n",
    "    src = f.read()\n",
    "\n",
    "pattern = r\"'passportKey': '.*'\"\n",
    "print(passport_key)\n",
    "src = re.sub(pattern, f\"'passportKey': '{passport_key}'\", src)\n",
    "with open(spell_checker_path, 'w', encoding='utf-8') as f:\n",
    "    f.write(src)\n",
    "\n",
    "print(\"spell_checker.py 자동 수정 완료!\")"
   ]
  },
  {
   "cell_type": "markdown",
   "metadata": {},
   "source": [
    "### 프로그램 종료 후 main.ipynb 에서 재실행"
   ]
  }
 ],
 "metadata": {
  "kernelspec": {
   "display_name": "dm",
   "language": "python",
   "name": "python3"
  },
  "language_info": {
   "codemirror_mode": {
    "name": "ipython",
    "version": 3
   },
   "file_extension": ".py",
   "mimetype": "text/x-python",
   "name": "python",
   "nbconvert_exporter": "python",
   "pygments_lexer": "ipython3",
   "version": "3.9.21"
  }
 },
 "nbformat": 4,
 "nbformat_minor": 2
}
